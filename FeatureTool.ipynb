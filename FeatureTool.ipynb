{
 "cells": [
  {
   "cell_type": "code",
   "execution_count": null,
   "metadata": {
    "collapsed": true
   },
   "outputs": [],
   "source": [
    "import featuretools as ft"
   ]
  },
  {
   "cell_type": "code",
   "execution_count": null,
   "metadata": {
    "collapsed": true
   },
   "outputs": [],
   "source": [
    "train_set_df = pd.read_csv(\"C:/Users/srinivasa.jami/.kaggle/competitions/home-credit-default-risk/application_train.csv\", dtype = main_features_dtypes_dict)\n",
    "test_set_df = pd.read_csv(\"C:/Users/srinivasa.jami/.kaggle/competitions/home-credit-default-risk/application_test.csv\", dtype = main_features_dtypes_dict)"
   ]
  },
  {
   "cell_type": "code",
   "execution_count": null,
   "metadata": {
    "collapsed": true
   },
   "outputs": [],
   "source": [
    "test_set_df['set'] = 'test'\n",
    "test_set_df['TARGET'] = -999\n",
    "train_set_df['set'] = 'train'\n",
    "app = train_set_df.append(test_set_df, ignore_index = True)"
   ]
  },
  {
   "cell_type": "code",
   "execution_count": null,
   "metadata": {
    "collapsed": true
   },
   "outputs": [],
   "source": [
    "es = ft.EntitySet(id = 'applications')\n",
    "\n",
    "es = es.entity_from_dataframe(entity_id = 'app', dataframe = app, index = 'SK_ID_CURR')\n",
    "es = es.entity_from_dataframe(entity_id = 'bureau', dataframe = bureau_data_df, index = 'SK_ID_BUREAU')\n",
    "es = es.entity_from_dataframe(entity_id = 'previous_app', dataframe = previous_application_data_df, index = 'SK_ID_PREV')\n",
    "\n",
    "es = es.entity_from_dataframe(entity_id = 'bureau_balance', dataframe = bureau_balance_data_df, \n",
    "                              make_index = True, index = 'bb_index')\n",
    "es = es.entity_from_dataframe(entity_id = 'cash', dataframe = pos_cash_balance_data_df, \n",
    "                              make_index = True, index = 'cash_index')\n",
    "es = es.entity_from_dataframe(entity_id = 'installments', dataframe = installments_payments_data_df,\n",
    "                              make_index = True, index = 'in_index')\n",
    "es = es.entity_from_dataframe(entity_id = 'credit', dataframe = credit_card_balance_data_df,\n",
    "                              make_index = True, index = 'credit_index')\n",
    "\n",
    "\n",
    "# Relationship between app and bureau\n",
    "r_app_bureau = ft.Relationship(es['app']['SK_ID_CURR'], es['bureau']['SK_ID_CURR'])\n",
    "\n",
    "# Relationship between bureau and bureau balance\n",
    "r_bureau_balance = ft.Relationship(es['bureau']['SK_ID_BUREAU'], es['bureau_balance']['SK_ID_BUREAU'])\n",
    "\n",
    "# Relationship between current app and previous apps\n",
    "r_app_previous = ft.Relationship(es['app']['SK_ID_CURR'], es['previous_app']['SK_ID_CURR'])\n",
    "\n",
    "# Relationships between previous apps and cash, installments, and credit\n",
    "r_previous_cash = ft.Relationship(es['previous_app']['SK_ID_PREV'], es['cash']['SK_ID_PREV'])\n",
    "r_previous_installments = ft.Relationship(es['previous_app']['SK_ID_PREV'], es['installments']['SK_ID_PREV'])\n",
    "r_previous_credit = ft.Relationship(es['previous_app']['SK_ID_PREV'], es['credit']['SK_ID_PREV'])"
   ]
  },
  {
   "cell_type": "code",
   "execution_count": null,
   "metadata": {
    "collapsed": true
   },
   "outputs": [],
   "source": [
    "es = es.add_relationships([r_app_bureau, r_bureau_balance, r_app_previous,\n",
    "                           r_previous_cash, r_previous_installments, r_previous_credit])"
   ]
  },
  {
   "cell_type": "code",
   "execution_count": null,
   "metadata": {
    "collapsed": true
   },
   "outputs": [],
   "source": [
    "%%time\n",
    "feature_matrix, feature_names = ft.dfs(entityset=es, target_entity = 'app', max_depth=2)"
   ]
  }
 ],
 "metadata": {
  "kernelspec": {
   "display_name": "Python 3",
   "language": "python",
   "name": "python3"
  },
  "language_info": {
   "codemirror_mode": {
    "name": "ipython",
    "version": 3
   },
   "file_extension": ".py",
   "mimetype": "text/x-python",
   "name": "python",
   "nbconvert_exporter": "python",
   "pygments_lexer": "ipython3",
   "version": "3.6.3"
  }
 },
 "nbformat": 4,
 "nbformat_minor": 2
}
