{
 "cells": [
  {
   "cell_type": "code",
   "execution_count": null,
   "metadata": {
    "collapsed": true
   },
   "outputs": [],
   "source": [
    "def add_noise(series, noise_level):\n",
    "    return series * (1 + noise_level * np.random.randn(len(series)))\n",
    "\n",
    "def target_encode(trn_series=None, \n",
    "                  tst_series=None, \n",
    "                  target=None, \n",
    "                  min_samples_leaf=1, \n",
    "                  smoothing=1,\n",
    "                  noise_level=0):\n",
    "    \"\"\"\n",
    "    Smoothing is computed like in the following paper by Daniele Micci-Barreca\n",
    "    https://kaggle2.blob.core.windows.net/forum-message-attachments/225952/7441/high%20cardinality%20categoricals.pdf\n",
    "    trn_series : training categorical feature as a pd.Series\n",
    "    tst_series : test categorical feature as a pd.Series\n",
    "    target : target data as a pd.Series\n",
    "    min_samples_leaf (int) : minimum samples to take category average into account\n",
    "    smoothing (int) : smoothing effect to balance categorical average vs prior  \n",
    "    \"\"\" \n",
    "    assert len(trn_series) == len(target)\n",
    "    assert trn_series.name == tst_series.name\n",
    "    temp = pd.concat([trn_series, target], axis=1)\n",
    "    # Compute target mean \n",
    "    averages = temp.groupby(by=trn_series.name)[target.name].agg([\"mean\", \"count\"])\n",
    "    print(averages)\n",
    "    print(\"----------------\")\n",
    "    # Compute smoothing\n",
    "    smoothing = 1 / (1 + np.exp(-(averages[\"count\"] - min_samples_leaf) / smoothing))\n",
    "    print(smoothing)\n",
    "    print(\"----------------\")\n",
    "    # Apply average function to all target data\n",
    "    prior = target.mean()\n",
    "    print(prior)\n",
    "    print(\"----------------\")\n",
    "    \n",
    "    # The bigger the count the less full_avg is taken into account\n",
    "    averages[target.name] = prior * (1 - smoothing) + averages[\"mean\"] * smoothing\n",
    "    averages.drop([\"mean\", \"count\"], axis=1, inplace=True)\n",
    "    print(averages)\n",
    "    print(\"-----------------\")\n",
    "    # Apply averages to trn and tst series\n",
    "    ft_trn_series = pd.merge(\n",
    "        trn_series.to_frame(trn_series.name),\n",
    "        averages.reset_index().rename(columns={'index': target.name, target.name: 'average'}),\n",
    "        on=trn_series.name,\n",
    "        how='left')['average'].rename(trn_series.name + '_mean').fillna(prior)\n",
    "    # pd.merge does not keep the index so restore it\n",
    "    ft_trn_series.index = trn_series.index \n",
    "    ft_tst_series = pd.merge(\n",
    "        tst_series.to_frame(tst_series.name),\n",
    "        averages.reset_index().rename(columns={'index': target.name, target.name: 'average'}),\n",
    "        on=tst_series.name,\n",
    "        how='left')['average'].rename(trn_series.name + '_mean').fillna(prior)\n",
    "    # pd.merge does not keep the index so restore it\n",
    "    ft_tst_series.index = tst_series.index\n",
    "    return add_noise(ft_trn_series, noise_level), add_noise(ft_tst_series, noise_level)"
   ]
  },
  {
   "cell_type": "code",
   "execution_count": null,
   "metadata": {
    "collapsed": true
   },
   "outputs": [],
   "source": [
    "floattypes = []\n",
    "inttypes = []\n",
    "stringtypes = []\n",
    "for c in trainsub.columns[1:]:\n",
    "    if(trainsub[c].dtype=='object'):\n",
    "        trainsub[c] = trainsub[c].astype('str')\n",
    "        testsub[c] = testsub[c].astype('str')\n",
    "        stringtypes.append(c)\n",
    "    elif(trainsub[c].dtype=='int64'):\n",
    "        #trainsub[c] = trainsub[c].astype('int32')\n",
    "        #testsub[c] = testsub[c].astype('int32')\n",
    "        inttypes.append(c)\n",
    "    else:\n",
    "        #trainsub[c] = trainsub[c].astype('float32')\n",
    "        #testsub[c] = testsub[c].astype('float32')\n",
    "        floattypes.append(c)"
   ]
  },
  {
   "cell_type": "code",
   "execution_count": null,
   "metadata": {
    "collapsed": true
   },
   "outputs": [],
   "source": [
    "kf = KFold(n_splits=5, shuffle=True, random_state=42)"
   ]
  },
  {
   "cell_type": "code",
   "execution_count": null,
   "metadata": {
    "collapsed": true
   },
   "outputs": [],
   "source": [
    "for col in ['NAME_CONTRACT_TYPE']:\n",
    "    #stringtypes\n",
    "    \n",
    "    trainsub['te_'+col] = 0.\n",
    "    testsub['te_'+col] = 0.\n",
    "    SMOOTHING = testsub[~testsub[col].isin(trainsub[col])].shape[0]/testsub.shape[0]\n",
    "    print(SMOOTHING)\n",
    "    for f, (vis_index, blind_index) in enumerate(kf.split(trainsub)):\n",
    "        _, trainsub.loc[blind_index, 'te_'+col] = target_encode(trainsub.loc[vis_index, col], \n",
    "                                                            trainsub.loc[blind_index, col], \n",
    "                                                            target=trainsub.loc[vis_index,'TARGET'], \n",
    "                                                            min_samples_leaf=100,\n",
    "                                                            smoothing=SMOOTHING,\n",
    "                                                            noise_level=0.0)\n",
    "        _, x = target_encode(trainsub.loc[vis_index, col], \n",
    "                                              testsub[col], \n",
    "                                              target=trainsub.loc[vis_index,'TARGET'], \n",
    "                                              min_samples_leaf=100,\n",
    "                                              smoothing=SMOOTHING,\n",
    "                                              noise_level=0.0)\n",
    "        testsub['te_'+col] += (.2*x)\n",
    "    trainsub.drop(col,inplace=True,axis=1)\n",
    "    testsub.drop(col,inplace=True,axis=1)"
   ]
  }
 ],
 "metadata": {
  "kernelspec": {
   "display_name": "Python 3",
   "language": "python",
   "name": "python3"
  },
  "language_info": {
   "codemirror_mode": {
    "name": "ipython",
    "version": 3
   },
   "file_extension": ".py",
   "mimetype": "text/x-python",
   "name": "python",
   "nbconvert_exporter": "python",
   "pygments_lexer": "ipython3",
   "version": "3.6.3"
  }
 },
 "nbformat": 4,
 "nbformat_minor": 2
}
